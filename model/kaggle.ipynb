{
 "cells": [
  {
   "cell_type": "code",
   "execution_count": 1,
   "metadata": {
    "execution": {
     "iopub.execute_input": "2020-08-17T11:24:31.350725Z",
     "iopub.status.busy": "2020-08-17T11:24:31.349948Z",
     "iopub.status.idle": "2020-08-17T11:24:32.390742Z",
     "shell.execute_reply": "2020-08-17T11:24:32.390097Z"
    },
    "papermill": {
     "duration": 1.059067,
     "end_time": "2020-08-17T11:24:32.390872",
     "exception": false,
     "start_time": "2020-08-17T11:24:31.331805",
     "status": "completed"
    },
    "tags": []
   },
   "outputs": [],
   "source": [
    "import json\n",
    "import pandas as pd\n",
    "train = pd.read_json('../input/whats-cooking-kernels-only/train.json')\n",
    "test = pd.read_json('../input/whats-cooking-kernels-only/test.json')"
   ]
  },
  {
   "cell_type": "code",
   "execution_count": 2,
   "metadata": {
    "execution": {
     "iopub.execute_input": "2020-08-17T11:24:32.417737Z",
     "iopub.status.busy": "2020-08-17T11:24:32.417046Z",
     "iopub.status.idle": "2020-08-17T11:24:33.605261Z",
     "shell.execute_reply": "2020-08-17T11:24:33.604678Z"
    },
    "papermill": {
     "duration": 1.203921,
     "end_time": "2020-08-17T11:24:33.605384",
     "exception": false,
     "start_time": "2020-08-17T11:24:32.401463",
     "status": "completed"
    },
    "tags": []
   },
   "outputs": [],
   "source": [
    "from sklearn.model_selection import train_test_split\n",
    "X_train = list(train['ingredients'])\n",
    "y_train = list(train['cuisine'])\n",
    "X_test = list(test['ingredients'])\n",
    "X_C_train, X_C_val, y_C_train, y_C_val = train_test_split(X_train, y_train, test_size=0.2, random_state=0)"
   ]
  },
  {
   "cell_type": "code",
   "execution_count": 3,
   "metadata": {
    "execution": {
     "iopub.execute_input": "2020-08-17T11:24:33.638325Z",
     "iopub.status.busy": "2020-08-17T11:24:33.630576Z",
     "iopub.status.idle": "2020-08-17T11:24:33.642265Z",
     "shell.execute_reply": "2020-08-17T11:24:33.642709Z"
    },
    "papermill": {
     "duration": 0.02716,
     "end_time": "2020-08-17T11:24:33.642863",
     "exception": false,
     "start_time": "2020-08-17T11:24:33.615703",
     "status": "completed"
    },
    "tags": []
   },
   "outputs": [
    {
     "name": "stdout",
     "output_type": "stream",
     "text": [
      "39774\n",
      "20\n"
     ]
    }
   ],
   "source": [
    "print(len(y_train))\n",
    "print(len(set(y_train)))"
   ]
  },
  {
   "cell_type": "code",
   "execution_count": 4,
   "metadata": {
    "execution": {
     "iopub.execute_input": "2020-08-17T11:24:33.670005Z",
     "iopub.status.busy": "2020-08-17T11:24:33.669346Z",
     "iopub.status.idle": "2020-08-17T11:24:34.619020Z",
     "shell.execute_reply": "2020-08-17T11:24:34.618256Z"
    },
    "papermill": {
     "duration": 0.965267,
     "end_time": "2020-08-17T11:24:34.619149",
     "exception": false,
     "start_time": "2020-08-17T11:24:33.653882",
     "status": "completed"
    },
    "tags": []
   },
   "outputs": [],
   "source": [
    "from nltk.corpus import stopwords \n",
    "stop_words = set(stopwords.words('english'))"
   ]
  },
  {
   "cell_type": "code",
   "execution_count": 5,
   "metadata": {
    "execution": {
     "iopub.execute_input": "2020-08-17T11:24:34.652079Z",
     "iopub.status.busy": "2020-08-17T11:24:34.651182Z",
     "iopub.status.idle": "2020-08-17T11:24:34.654518Z",
     "shell.execute_reply": "2020-08-17T11:24:34.653946Z"
    },
    "papermill": {
     "duration": 0.024084,
     "end_time": "2020-08-17T11:24:34.654637",
     "exception": false,
     "start_time": "2020-08-17T11:24:34.630553",
     "status": "completed"
    },
    "tags": []
   },
   "outputs": [],
   "source": [
    "from nltk.stem.porter import *\n",
    "stemmer = PorterStemmer()"
   ]
  },
  {
   "cell_type": "code",
   "execution_count": 6,
   "metadata": {
    "execution": {
     "iopub.execute_input": "2020-08-17T11:24:34.686048Z",
     "iopub.status.busy": "2020-08-17T11:24:34.685362Z",
     "iopub.status.idle": "2020-08-17T11:24:34.688659Z",
     "shell.execute_reply": "2020-08-17T11:24:34.688016Z"
    },
    "papermill": {
     "duration": 0.023166,
     "end_time": "2020-08-17T11:24:34.688776",
     "exception": false,
     "start_time": "2020-08-17T11:24:34.665610",
     "status": "completed"
    },
    "tags": []
   },
   "outputs": [],
   "source": [
    "from nltk.tokenize import word_tokenize\n",
    "def preprocess_ingredient(ingredients):\n",
    "    for ingredient in ingredients:\n",
    "        for i in range(len(ingredient)):\n",
    "            x = ingredient[i] #'Bertolli® Classico Olive Oil', '(10 oz.) frozen chopped spinach, thawed and squeezed dry' ,'leg of lamb', 'lamb leg'\n",
    "            x = x.lower() #'bertolli® classico olive oil', '(10 oz.) frozen chopped spinach, thawed and squeezed dry' ,'leg of lamb', 'lamb leg'\n",
    "            x = re.sub(\"[^a-z ]\", \"\", x) #'bertolli classico olive oil', ' oz frozen chopped spinach thawed and squeezed dry' ,'leg of lamb', 'lamb leg'\n",
    "            word_tokens = word_tokenize(x)\n",
    "            if 'oz' in word_tokens:\n",
    "                word_tokens.remove('oz')\n",
    "            filtered_words = [w for w in word_tokens if not w in stop_words] \n",
    "            filtered_words.sort() #['bertolli', 'classico', 'oil', 'olive'], ['chopped', 'dry', 'frozen', 'spinach', 'squeezed', 'thawed'], ['lamb', 'leg'], ['lamb', 'leg']\n",
    "            stemmed_word = [stemmer.stem(word) for word in filtered_words]\n",
    "            x = ' '.join(stemmed_word) #'bertolli classico oil oliv', 'chop dri frozen spinach squeez thaw' ,'lamb leg', 'lamb leg'\n",
    "            ingredient[i] = x"
   ]
  },
  {
   "cell_type": "code",
   "execution_count": 7,
   "metadata": {
    "execution": {
     "iopub.execute_input": "2020-08-17T11:24:34.716348Z",
     "iopub.status.busy": "2020-08-17T11:24:34.715588Z",
     "iopub.status.idle": "2020-08-17T11:26:48.651428Z",
     "shell.execute_reply": "2020-08-17T11:26:48.652290Z"
    },
    "papermill": {
     "duration": 133.952559,
     "end_time": "2020-08-17T11:26:48.652581",
     "exception": false,
     "start_time": "2020-08-17T11:24:34.700022",
     "status": "completed"
    },
    "tags": []
   },
   "outputs": [],
   "source": [
    "preprocess_ingredient(X_C_train)\n",
    "preprocess_ingredient(X_C_val)\n",
    "preprocess_ingredient(X_train)\n",
    "preprocess_ingredient(X_test)"
   ]
  },
  {
   "cell_type": "code",
   "execution_count": 8,
   "metadata": {
    "execution": {
     "iopub.execute_input": "2020-08-17T11:26:48.692515Z",
     "iopub.status.busy": "2020-08-17T11:26:48.691558Z",
     "iopub.status.idle": "2020-08-17T11:26:48.695053Z",
     "shell.execute_reply": "2020-08-17T11:26:48.694379Z"
    },
    "papermill": {
     "duration": 0.025361,
     "end_time": "2020-08-17T11:26:48.695214",
     "exception": false,
     "start_time": "2020-08-17T11:26:48.669853",
     "status": "completed"
    },
    "tags": []
   },
   "outputs": [],
   "source": [
    "def create_vocabs(X):\n",
    "    vocabs = set()\n",
    "    for ingredient in X:\n",
    "        vocabs.update(ingredient)\n",
    "    return sorted(vocabs)"
   ]
  },
  {
   "cell_type": "code",
   "execution_count": 9,
   "metadata": {
    "execution": {
     "iopub.execute_input": "2020-08-17T11:26:48.772607Z",
     "iopub.status.busy": "2020-08-17T11:26:48.746625Z",
     "iopub.status.idle": "2020-08-17T11:26:48.898137Z",
     "shell.execute_reply": "2020-08-17T11:26:48.897441Z"
    },
    "papermill": {
     "duration": 0.187518,
     "end_time": "2020-08-17T11:26:48.898287",
     "exception": false,
     "start_time": "2020-08-17T11:26:48.710769",
     "status": "completed"
    },
    "tags": []
   },
   "outputs": [],
   "source": [
    "C_train_vocabs = create_vocabs(X_C_train)\n",
    "train_vocabs = create_vocabs(X_train)"
   ]
  },
  {
   "cell_type": "code",
   "execution_count": 10,
   "metadata": {
    "execution": {
     "iopub.execute_input": "2020-08-17T11:26:48.926586Z",
     "iopub.status.busy": "2020-08-17T11:26:48.925891Z",
     "iopub.status.idle": "2020-08-17T11:26:48.933315Z",
     "shell.execute_reply": "2020-08-17T11:26:48.932305Z"
    },
    "papermill": {
     "duration": 0.023878,
     "end_time": "2020-08-17T11:26:48.933640",
     "exception": false,
     "start_time": "2020-08-17T11:26:48.909762",
     "status": "completed"
    },
    "tags": []
   },
   "outputs": [],
   "source": [
    "import pickle\n",
    "with open('train_vocabs.pkl', 'wb') as file:\n",
    "    pickle.dump(train_vocabs, file)\n",
    "# with open('train_vocabs.pkl', 'rb') as file:  \n",
    "#     pickled_train_vocabs = sorted(pickle.load(file))"
   ]
  },
  {
   "cell_type": "code",
   "execution_count": 11,
   "metadata": {
    "execution": {
     "iopub.execute_input": "2020-08-17T11:26:48.970454Z",
     "iopub.status.busy": "2020-08-17T11:26:48.969377Z",
     "iopub.status.idle": "2020-08-17T11:26:48.972777Z",
     "shell.execute_reply": "2020-08-17T11:26:48.972110Z"
    },
    "papermill": {
     "duration": 0.023484,
     "end_time": "2020-08-17T11:26:48.972894",
     "exception": false,
     "start_time": "2020-08-17T11:26:48.949410",
     "status": "completed"
    },
    "tags": []
   },
   "outputs": [],
   "source": [
    "def create_bag_of_words(ingredients, vocabs):\n",
    "    data_features = list()\n",
    "    for ingredient in ingredients:\n",
    "        features = list()\n",
    "        for item in vocabs:\n",
    "            features.append(item in ingredient)\n",
    "        data_features.append(features)\n",
    "    return data_features"
   ]
  },
  {
   "cell_type": "code",
   "execution_count": 12,
   "metadata": {
    "execution": {
     "iopub.execute_input": "2020-08-17T11:26:49.025153Z",
     "iopub.status.busy": "2020-08-17T11:26:49.019980Z",
     "iopub.status.idle": "2020-08-17T11:29:45.971187Z",
     "shell.execute_reply": "2020-08-17T11:29:45.970496Z"
    },
    "papermill": {
     "duration": 176.984607,
     "end_time": "2020-08-17T11:29:45.971345",
     "exception": false,
     "start_time": "2020-08-17T11:26:48.986738",
     "status": "completed"
    },
    "tags": []
   },
   "outputs": [],
   "source": [
    "# from sklearn import preprocessing\n",
    "\n",
    "C_train_data_features = create_bag_of_words(X_C_train, C_train_vocabs)\n",
    "\n",
    "C_val_data_features = create_bag_of_words(X_C_val, C_train_vocabs)\n",
    "\n",
    "# train_data_features = preprocessing.scale(create_bag_of_words(X_train))\n",
    "train_data_features = create_bag_of_words(X_train, train_vocabs)\n",
    "\n",
    "# test_data_features = preprocessing.scale(create_bag_of_words(X_test))\n",
    "test_data_features = create_bag_of_words(X_test, train_vocabs)"
   ]
  },
  {
   "cell_type": "code",
   "execution_count": 13,
   "metadata": {
    "execution": {
     "iopub.execute_input": "2020-08-17T11:29:46.001573Z",
     "iopub.status.busy": "2020-08-17T11:29:46.000867Z",
     "iopub.status.idle": "2020-08-17T11:29:46.004991Z",
     "shell.execute_reply": "2020-08-17T11:29:46.004426Z"
    },
    "papermill": {
     "duration": 0.021826,
     "end_time": "2020-08-17T11:29:46.005125",
     "exception": false,
     "start_time": "2020-08-17T11:29:45.983299",
     "status": "completed"
    },
    "tags": []
   },
   "outputs": [],
   "source": [
    "def train_logistic_regression(c, features, label):\n",
    "    from sklearn.linear_model import LogisticRegression\n",
    "    ml_model = LogisticRegression(C=c, max_iter = 40000)\n",
    "    ml_model.fit(features, label)\n",
    "    return ml_model"
   ]
  },
  {
   "cell_type": "code",
   "execution_count": 14,
   "metadata": {
    "execution": {
     "iopub.execute_input": "2020-08-17T11:29:56.802095Z",
     "iopub.status.busy": "2020-08-17T11:29:56.801383Z",
     "iopub.status.idle": "2020-08-17T12:03:08.462049Z",
     "shell.execute_reply": "2020-08-17T12:03:08.460716Z"
    },
    "papermill": {
     "duration": 2002.445243,
     "end_time": "2020-08-17T12:03:08.462571",
     "exception": false,
     "start_time": "2020-08-17T11:29:46.017328",
     "status": "completed"
    },
    "tags": []
   },
   "outputs": [
    {
     "name": "stdout",
     "output_type": "stream",
     "text": [
      "0.01 0.6517913262099309\n",
      "0.1 0.7581395348837209\n",
      "0.2 0.7730986800754243\n",
      "0.5 0.780389692017599\n",
      "1 0.7827781269641735\n",
      "2 0.77950974230044\n",
      "5 0.7717159019484601\n",
      "10 0.7629164047768698\n",
      "100 0.7263356379635449\n",
      "1 0.7827781269641735\n"
     ]
    }
   ],
   "source": [
    "c_trial = [0.01, 0.1, 0.2, 0.5, 1, 2, 5, 10, 100]\n",
    "best_c = c = 0\n",
    "best_score = 0\n",
    "from sklearn.metrics import accuracy_score\n",
    "for c in c_trial:\n",
    "    ml_model = train_logistic_regression(c, C_train_data_features, y_C_train)\n",
    "    predicted_y = ml_model.predict(C_val_data_features)\n",
    "    score = accuracy_score(y_C_val, predicted_y)\n",
    "    print(c, score)\n",
    "    if score > best_score:\n",
    "        best_score = score\n",
    "        best_c = c\n",
    "\n",
    "print(best_c, best_score)\n",
    "ml_model = train_logistic_regression(best_c, train_data_features, y_train)\n",
    "predicted_y = ml_model.predict(test_data_features)"
   ]
  },
  {
   "cell_type": "code",
   "execution_count": 15,
   "metadata": {
    "execution": {
     "iopub.execute_input": "2020-08-17T12:03:08.525980Z",
     "iopub.status.busy": "2020-08-17T12:03:08.509131Z",
     "iopub.status.idle": "2020-08-17T12:03:08.630551Z",
     "shell.execute_reply": "2020-08-17T12:03:08.631131Z"
    },
    "papermill": {
     "duration": 0.153492,
     "end_time": "2020-08-17T12:03:08.631310",
     "exception": false,
     "start_time": "2020-08-17T12:03:08.477818",
     "status": "completed"
    },
    "tags": []
   },
   "outputs": [
    {
     "data": {
      "text/html": [
       "<div>\n",
       "<style scoped>\n",
       "    .dataframe tbody tr th:only-of-type {\n",
       "        vertical-align: middle;\n",
       "    }\n",
       "\n",
       "    .dataframe tbody tr th {\n",
       "        vertical-align: top;\n",
       "    }\n",
       "\n",
       "    .dataframe thead th {\n",
       "        text-align: right;\n",
       "    }\n",
       "</style>\n",
       "<table border=\"1\" class=\"dataframe\">\n",
       "  <thead>\n",
       "    <tr style=\"text-align: right;\">\n",
       "      <th></th>\n",
       "      <th>id</th>\n",
       "      <th>cuisine</th>\n",
       "    </tr>\n",
       "  </thead>\n",
       "  <tbody>\n",
       "    <tr>\n",
       "      <th>0</th>\n",
       "      <td>18009</td>\n",
       "      <td>british</td>\n",
       "    </tr>\n",
       "    <tr>\n",
       "      <th>1</th>\n",
       "      <td>28583</td>\n",
       "      <td>southern_us</td>\n",
       "    </tr>\n",
       "    <tr>\n",
       "      <th>2</th>\n",
       "      <td>41580</td>\n",
       "      <td>italian</td>\n",
       "    </tr>\n",
       "    <tr>\n",
       "      <th>3</th>\n",
       "      <td>29752</td>\n",
       "      <td>cajun_creole</td>\n",
       "    </tr>\n",
       "    <tr>\n",
       "      <th>4</th>\n",
       "      <td>35687</td>\n",
       "      <td>italian</td>\n",
       "    </tr>\n",
       "  </tbody>\n",
       "</table>\n",
       "</div>"
      ],
      "text/plain": [
       "      id       cuisine\n",
       "0  18009       british\n",
       "1  28583   southern_us\n",
       "2  41580       italian\n",
       "3  29752  cajun_creole\n",
       "4  35687       italian"
      ]
     },
     "execution_count": 15,
     "metadata": {},
     "output_type": "execute_result"
    }
   ],
   "source": [
    "test['cuisine'] = predicted_y\n",
    "test[['id', 'cuisine']].to_csv('submission.csv', index=False)\n",
    "test[['id', 'cuisine']].head()"
   ]
  },
  {
   "cell_type": "code",
   "execution_count": 16,
   "metadata": {
    "_cell_guid": "ab6d18c7-eb6f-4574-b4e7-27f037ccaac6",
    "_uuid": "4a4e5320-c07f-4def-8ebe-f609641b54e0",
    "execution": {
     "iopub.execute_input": "2020-08-17T12:03:08.670045Z",
     "iopub.status.busy": "2020-08-17T12:03:08.667593Z",
     "iopub.status.idle": "2020-08-17T12:03:08.676311Z",
     "shell.execute_reply": "2020-08-17T12:03:08.675644Z"
    },
    "papermill": {
     "duration": 0.028832,
     "end_time": "2020-08-17T12:03:08.676434",
     "exception": false,
     "start_time": "2020-08-17T12:03:08.647602",
     "status": "completed"
    },
    "tags": []
   },
   "outputs": [
    {
     "data": {
      "text/plain": [
       "['cuisine_prediction_model_joblib.pkl']"
      ]
     },
     "execution_count": 16,
     "metadata": {},
     "output_type": "execute_result"
    }
   ],
   "source": [
    "# import pickle\n",
    "# with open('cuisine_prediction_model.pkl', 'wb') as file:\n",
    "#     pickle.dump(ml_model, file)\n",
    "    \n",
    "# with open('cuisine_prediction_model.pkl', 'rb') as file:  \n",
    "#     pickled_ml_model = pickle.load(file)\n",
    "\n",
    "import joblib\n",
    "joblib.dump(ml_model, 'cuisine_prediction_model_joblib.pkl')\n",
    "# pickled_ml_model = joblib.load('cuisine_prediction_model_joblib.pkl') "
   ]
  },
  {
   "cell_type": "code",
   "execution_count": 17,
   "metadata": {
    "execution": {
     "iopub.execute_input": "2020-08-17T12:03:08.714135Z",
     "iopub.status.busy": "2020-08-17T12:03:08.713368Z",
     "iopub.status.idle": "2020-08-17T12:03:08.716589Z",
     "shell.execute_reply": "2020-08-17T12:03:08.715913Z"
    },
    "papermill": {
     "duration": 0.024164,
     "end_time": "2020-08-17T12:03:08.716710",
     "exception": false,
     "start_time": "2020-08-17T12:03:08.692546",
     "status": "completed"
    },
    "tags": []
   },
   "outputs": [],
   "source": [
    "# !pip freeze > '../working/dockerimage_snapshot.txt'"
   ]
  }
 ],
 "metadata": {
  "kernelspec": {
   "display_name": "Python 3",
   "language": "python",
   "name": "python3"
  },
  "language_info": {
   "codemirror_mode": {
    "name": "ipython",
    "version": 3
   },
   "file_extension": ".py",
   "mimetype": "text/x-python",
   "name": "python",
   "nbconvert_exporter": "python",
   "pygments_lexer": "ipython3",
   "version": "3.7.6"
  },
  "papermill": {
   "duration": 2322.812739,
   "end_time": "2020-08-17T12:03:09.047570",
   "environment_variables": {},
   "exception": null,
   "input_path": "__notebook__.ipynb",
   "output_path": "__notebook__.ipynb",
   "parameters": {},
   "start_time": "2020-08-17T11:24:26.234831",
   "version": "2.1.0"
  }
 },
 "nbformat": 4,
 "nbformat_minor": 4
}

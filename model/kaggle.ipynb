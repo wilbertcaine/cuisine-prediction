{
 "cells": [
  {
   "cell_type": "code",
   "execution_count": 1,
   "metadata": {
    "execution": {
     "iopub.execute_input": "2020-08-16T08:16:44.615071Z",
     "iopub.status.busy": "2020-08-16T08:16:44.614024Z",
     "iopub.status.idle": "2020-08-16T08:16:47.716352Z",
     "shell.execute_reply": "2020-08-16T08:16:47.715336Z"
    },
    "papermill": {
     "duration": 3.123361,
     "end_time": "2020-08-16T08:16:47.716513",
     "exception": false,
     "start_time": "2020-08-16T08:16:44.593152",
     "status": "completed"
    },
    "tags": []
   },
   "outputs": [],
   "source": [
    "import json\n",
    "import pandas as pd\n",
    "train = pd.read_json('../input/whats-cooking-kernels-only/train.json')\n",
    "test = pd.read_json('../input/whats-cooking-kernels-only/test.json')\n",
    "\n",
    "from sklearn.model_selection import train_test_split\n",
    "X_train = list(train['ingredients'])\n",
    "y_train = list(train['cuisine'])\n",
    "X_test = list(test['ingredients'])\n",
    "\n",
    "from nltk.corpus import stopwords \n",
    "from nltk.tokenize import word_tokenize\n",
    "\n",
    "stop_words = set(stopwords.words('english'))\n",
    "\n",
    "from nltk.stem.porter import *\n",
    "stemmer = PorterStemmer()"
   ]
  },
  {
   "cell_type": "code",
   "execution_count": 2,
   "metadata": {
    "execution": {
     "iopub.execute_input": "2020-08-16T08:16:47.743567Z",
     "iopub.status.busy": "2020-08-16T08:16:47.742734Z",
     "iopub.status.idle": "2020-08-16T08:16:47.746410Z",
     "shell.execute_reply": "2020-08-16T08:16:47.745722Z"
    },
    "papermill": {
     "duration": 0.018455,
     "end_time": "2020-08-16T08:16:47.746559",
     "exception": false,
     "start_time": "2020-08-16T08:16:47.728104",
     "status": "completed"
    },
    "tags": []
   },
   "outputs": [],
   "source": [
    "# deldeldelde=list(train['cuisine'])\n",
    "# for i in set(deldeldelde):\n",
    "#     print(deldeldelde.count(i))\n",
    "#     print(i)"
   ]
  },
  {
   "cell_type": "code",
   "execution_count": 3,
   "metadata": {
    "execution": {
     "iopub.execute_input": "2020-08-16T08:16:47.783844Z",
     "iopub.status.busy": "2020-08-16T08:16:47.781285Z",
     "iopub.status.idle": "2020-08-16T08:16:47.788018Z",
     "shell.execute_reply": "2020-08-16T08:16:47.787339Z"
    },
    "papermill": {
     "duration": 0.03125,
     "end_time": "2020-08-16T08:16:47.788167",
     "exception": false,
     "start_time": "2020-08-16T08:16:47.756917",
     "status": "completed"
    },
    "tags": []
   },
   "outputs": [],
   "source": [
    "def preprocess_ingredient(ingredients):\n",
    "    for ingredient in ingredients:\n",
    "        for i in range(len(ingredient)):\n",
    "            x = ingredient[i] #'Bertolli® Classico Olive Oil', '(10 oz.) frozen chopped spinach, thawed and squeezed dry' ,'leg of lamb', 'lamb leg'\n",
    "            x = x.lower() #'bertolli® classico olive oil', '(10 oz.) frozen chopped spinach, thawed and squeezed dry' ,'leg of lamb', 'lamb leg'\n",
    "            x = re.sub(\"[^a-z ]\", \"\", x) #'bertolli classico olive oil', ' oz frozen chopped spinach thawed and squeezed dry' ,'leg of lamb', 'lamb leg'\n",
    "            word_tokens = word_tokenize(x)\n",
    "            if 'oz' in word_tokens:\n",
    "                word_tokens.remove('oz')\n",
    "            filtered_words = [w for w in word_tokens if not w in stop_words] \n",
    "            filtered_words.sort() #['bertolli', 'classico', 'oil', 'olive'], ['chopped', 'dry', 'frozen', 'spinach', 'squeezed', 'thawed'], ['lamb', 'leg'], ['lamb', 'leg']\n",
    "            stemmed_word = [stemmer.stem(word) for word in filtered_words]\n",
    "            x = ' '.join(stemmed_word) #'bertolli classico oil oliv', 'chop dri frozen spinach squeez thaw' ,'lamb leg', 'lamb leg'\n",
    "            ingredient[i] = x"
   ]
  },
  {
   "cell_type": "code",
   "execution_count": 4,
   "metadata": {
    "collapsed": true,
    "execution": {
     "iopub.execute_input": "2020-08-16T08:16:47.815534Z",
     "iopub.status.busy": "2020-08-16T08:16:47.814723Z",
     "iopub.status.idle": "2020-08-16T08:18:39.479729Z",
     "shell.execute_reply": "2020-08-16T08:18:39.478807Z"
    },
    "papermill": {
     "duration": 111.681734,
     "end_time": "2020-08-16T08:18:39.480353",
     "exception": false,
     "start_time": "2020-08-16T08:16:47.798619",
     "status": "completed"
    },
    "tags": []
   },
   "outputs": [],
   "source": [
    "preprocess_ingredient(X_train)\n",
    "preprocess_ingredient(X_test)"
   ]
  },
  {
   "cell_type": "code",
   "execution_count": 5,
   "metadata": {
    "execution": {
     "iopub.execute_input": "2020-08-16T08:18:39.549975Z",
     "iopub.status.busy": "2020-08-16T08:18:39.533851Z",
     "iopub.status.idle": "2020-08-16T08:18:39.603671Z",
     "shell.execute_reply": "2020-08-16T08:18:39.602884Z"
    },
    "papermill": {
     "duration": 0.110494,
     "end_time": "2020-08-16T08:18:39.603861",
     "exception": false,
     "start_time": "2020-08-16T08:18:39.493367",
     "status": "completed"
    },
    "tags": []
   },
   "outputs": [],
   "source": [
    "vocabs = set()\n",
    "for ingredient in X_train:\n",
    "    vocabs.update(ingredient)\n",
    "vocabs = sorted(vocabs)\n",
    "\n",
    "pickled_vocabs = set()\n",
    "\n",
    "import pickle\n",
    "with open('vocabs.pkl', 'wb') as file:\n",
    "    pickle.dump(vocabs, file)\n",
    "    \n",
    "with open('vocabs.pkl', 'rb') as file:  \n",
    "    pickled_vocabs = sorted(pickle.load(file))\n",
    "\n",
    "# print(pickled_vocabs)"
   ]
  },
  {
   "cell_type": "code",
   "execution_count": 6,
   "metadata": {
    "execution": {
     "iopub.execute_input": "2020-08-16T08:18:39.635219Z",
     "iopub.status.busy": "2020-08-16T08:18:39.634150Z",
     "iopub.status.idle": "2020-08-16T08:18:39.637375Z",
     "shell.execute_reply": "2020-08-16T08:18:39.638020Z"
    },
    "papermill": {
     "duration": 0.023116,
     "end_time": "2020-08-16T08:18:39.638223",
     "exception": false,
     "start_time": "2020-08-16T08:18:39.615107",
     "status": "completed"
    },
    "tags": []
   },
   "outputs": [],
   "source": [
    "def create_bag_of_words(ingredients):\n",
    "    data_features = list()\n",
    "    for ingredient in ingredients:\n",
    "        features = list()\n",
    "        for item in pickled_vocabs:\n",
    "            features.append(item in ingredient)\n",
    "        data_features.append(features)\n",
    "    return data_features"
   ]
  },
  {
   "cell_type": "code",
   "execution_count": 7,
   "metadata": {
    "execution": {
     "iopub.execute_input": "2020-08-16T08:18:39.676591Z",
     "iopub.status.busy": "2020-08-16T08:18:39.671185Z",
     "iopub.status.idle": "2020-08-16T08:20:05.205920Z",
     "shell.execute_reply": "2020-08-16T08:20:05.205203Z"
    },
    "papermill": {
     "duration": 85.556359,
     "end_time": "2020-08-16T08:20:05.206103",
     "exception": false,
     "start_time": "2020-08-16T08:18:39.649744",
     "status": "completed"
    },
    "tags": []
   },
   "outputs": [],
   "source": [
    "train_data_features = create_bag_of_words(X_train)"
   ]
  },
  {
   "cell_type": "code",
   "execution_count": 8,
   "metadata": {
    "execution": {
     "iopub.execute_input": "2020-08-16T08:20:05.235917Z",
     "iopub.status.busy": "2020-08-16T08:20:05.235007Z",
     "iopub.status.idle": "2020-08-16T08:20:05.239198Z",
     "shell.execute_reply": "2020-08-16T08:20:05.238422Z"
    },
    "papermill": {
     "duration": 0.022017,
     "end_time": "2020-08-16T08:20:05.239334",
     "exception": false,
     "start_time": "2020-08-16T08:20:05.217317",
     "status": "completed"
    },
    "tags": []
   },
   "outputs": [],
   "source": [
    "def train_logistic_regression(features, label):\n",
    "    from sklearn.linear_model import LogisticRegression\n",
    "    ml_model = LogisticRegression(C = 2,random_state = 0)\n",
    "    ml_model.fit(features, label)\n",
    "    return ml_model"
   ]
  },
  {
   "cell_type": "code",
   "execution_count": 9,
   "metadata": {
    "execution": {
     "iopub.execute_input": "2020-08-16T08:20:46.114589Z",
     "iopub.status.busy": "2020-08-16T08:20:46.094934Z",
     "iopub.status.idle": "2020-08-16T08:21:50.852298Z",
     "shell.execute_reply": "2020-08-16T08:21:50.853228Z"
    },
    "papermill": {
     "duration": 105.602832,
     "end_time": "2020-08-16T08:21:50.853521",
     "exception": false,
     "start_time": "2020-08-16T08:20:05.250689",
     "status": "completed"
    },
    "tags": []
   },
   "outputs": [
    {
     "name": "stderr",
     "output_type": "stream",
     "text": [
      "/opt/conda/lib/python3.7/site-packages/sklearn/linear_model/_logistic.py:764: ConvergenceWarning: lbfgs failed to converge (status=1):\n",
      "STOP: TOTAL NO. of ITERATIONS REACHED LIMIT.\n",
      "\n",
      "Increase the number of iterations (max_iter) or scale the data as shown in:\n",
      "    https://scikit-learn.org/stable/modules/preprocessing.html\n",
      "Please also refer to the documentation for alternative solver options:\n",
      "    https://scikit-learn.org/stable/modules/linear_model.html#logistic-regression\n",
      "  extra_warning_msg=_LOGISTIC_SOLVER_CONVERGENCE_MSG)\n"
     ]
    }
   ],
   "source": [
    "ml_model = train_logistic_regression(train_data_features, y_train)"
   ]
  },
  {
   "cell_type": "code",
   "execution_count": 10,
   "metadata": {
    "_cell_guid": "ab6d18c7-eb6f-4574-b4e7-27f037ccaac6",
    "_uuid": "4a4e5320-c07f-4def-8ebe-f609641b54e0",
    "execution": {
     "iopub.execute_input": "2020-08-16T08:21:50.893701Z",
     "iopub.status.busy": "2020-08-16T08:21:50.891881Z",
     "iopub.status.idle": "2020-08-16T08:22:19.252944Z",
     "shell.execute_reply": "2020-08-16T08:22:19.252160Z"
    },
    "papermill": {
     "duration": 28.38193,
     "end_time": "2020-08-16T08:22:19.253087",
     "exception": false,
     "start_time": "2020-08-16T08:21:50.871157",
     "status": "completed"
    },
    "tags": []
   },
   "outputs": [
    {
     "data": {
      "text/html": [
       "<div>\n",
       "<style scoped>\n",
       "    .dataframe tbody tr th:only-of-type {\n",
       "        vertical-align: middle;\n",
       "    }\n",
       "\n",
       "    .dataframe tbody tr th {\n",
       "        vertical-align: top;\n",
       "    }\n",
       "\n",
       "    .dataframe thead th {\n",
       "        text-align: right;\n",
       "    }\n",
       "</style>\n",
       "<table border=\"1\" class=\"dataframe\">\n",
       "  <thead>\n",
       "    <tr style=\"text-align: right;\">\n",
       "      <th></th>\n",
       "      <th>id</th>\n",
       "      <th>cuisine</th>\n",
       "    </tr>\n",
       "  </thead>\n",
       "  <tbody>\n",
       "    <tr>\n",
       "      <th>0</th>\n",
       "      <td>18009</td>\n",
       "      <td>british</td>\n",
       "    </tr>\n",
       "    <tr>\n",
       "      <th>1</th>\n",
       "      <td>28583</td>\n",
       "      <td>southern_us</td>\n",
       "    </tr>\n",
       "    <tr>\n",
       "      <th>2</th>\n",
       "      <td>41580</td>\n",
       "      <td>italian</td>\n",
       "    </tr>\n",
       "    <tr>\n",
       "      <th>3</th>\n",
       "      <td>29752</td>\n",
       "      <td>cajun_creole</td>\n",
       "    </tr>\n",
       "    <tr>\n",
       "      <th>4</th>\n",
       "      <td>35687</td>\n",
       "      <td>italian</td>\n",
       "    </tr>\n",
       "  </tbody>\n",
       "</table>\n",
       "</div>"
      ],
      "text/plain": [
       "      id       cuisine\n",
       "0  18009       british\n",
       "1  28583   southern_us\n",
       "2  41580       italian\n",
       "3  29752  cajun_creole\n",
       "4  35687       italian"
      ]
     },
     "execution_count": 10,
     "metadata": {},
     "output_type": "execute_result"
    }
   ],
   "source": [
    "# import pickle\n",
    "# with open('cuisine_prediction_model.pkl', 'wb') as file:\n",
    "#     pickle.dump(ml_model, file)\n",
    "    \n",
    "# with open('cuisine_prediction_model.pkl', 'rb') as file:  \n",
    "#     pickled_ml_model = pickle.load(file)\n",
    "\n",
    "import joblib\n",
    "joblib.dump(ml_model, 'cuisine_prediction_model_joblib.pkl')\n",
    "pickled_ml_model = joblib.load('cuisine_prediction_model_joblib.pkl') \n",
    "\n",
    "test_data_features = create_bag_of_words(X_test)\n",
    "predicted_y = pickled_ml_model.predict(test_data_features)\n",
    "\n",
    "test['cuisine'] = predicted_y\n",
    "test[['id', 'cuisine']].to_csv('submission.csv', index=False)\n",
    "test[['id', 'cuisine']].head()"
   ]
  },
  {
   "cell_type": "code",
   "execution_count": 11,
   "metadata": {
    "execution": {
     "iopub.execute_input": "2020-08-16T08:22:19.285676Z",
     "iopub.status.busy": "2020-08-16T08:22:19.284874Z",
     "iopub.status.idle": "2020-08-16T08:22:22.083401Z",
     "shell.execute_reply": "2020-08-16T08:22:22.082546Z"
    },
    "papermill": {
     "duration": 2.817347,
     "end_time": "2020-08-16T08:22:22.083550",
     "exception": false,
     "start_time": "2020-08-16T08:22:19.266203",
     "status": "completed"
    },
    "tags": []
   },
   "outputs": [],
   "source": [
    "!pip freeze > '../working/dockerimage_snapshot.txt'"
   ]
  }
 ],
 "metadata": {
  "kernelspec": {
   "display_name": "Python 3",
   "language": "python",
   "name": "python3"
  },
  "language_info": {
   "codemirror_mode": {
    "name": "ipython",
    "version": 3
   },
   "file_extension": ".py",
   "mimetype": "text/x-python",
   "name": "python",
   "nbconvert_exporter": "python",
   "pygments_lexer": "ipython3",
   "version": "3.7.6"
  },
  "papermill": {
   "duration": 343.57317,
   "end_time": "2020-08-16T08:22:22.306041",
   "environment_variables": {},
   "exception": null,
   "input_path": "__notebook__.ipynb",
   "output_path": "__notebook__.ipynb",
   "parameters": {},
   "start_time": "2020-08-16T08:16:38.732871",
   "version": "2.1.0"
  }
 },
 "nbformat": 4,
 "nbformat_minor": 4
}

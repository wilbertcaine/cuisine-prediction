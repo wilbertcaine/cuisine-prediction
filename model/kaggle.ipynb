{
 "cells": [
  {
   "cell_type": "code",
   "execution_count": 1,
   "metadata": {
    "execution": {
     "iopub.execute_input": "2020-08-17T14:42:20.973243Z",
     "iopub.status.busy": "2020-08-17T14:42:20.972249Z",
     "iopub.status.idle": "2020-08-17T14:42:21.720849Z",
     "shell.execute_reply": "2020-08-17T14:42:21.720009Z"
    },
    "papermill": {
     "duration": 0.772102,
     "end_time": "2020-08-17T14:42:21.720985",
     "exception": false,
     "start_time": "2020-08-17T14:42:20.948883",
     "status": "completed"
    },
    "tags": []
   },
   "outputs": [],
   "source": [
    "import json\n",
    "import pandas as pd\n",
    "train = pd.read_json('../input/whats-cooking-kernels-only/train.json')\n",
    "test = pd.read_json('../input/whats-cooking-kernels-only/test.json')"
   ]
  },
  {
   "cell_type": "code",
   "execution_count": 2,
   "metadata": {
    "execution": {
     "iopub.execute_input": "2020-08-17T14:42:21.758295Z",
     "iopub.status.busy": "2020-08-17T14:42:21.757525Z",
     "iopub.status.idle": "2020-08-17T14:42:22.891368Z",
     "shell.execute_reply": "2020-08-17T14:42:22.890626Z"
    },
    "papermill": {
     "duration": 1.154325,
     "end_time": "2020-08-17T14:42:22.891517",
     "exception": false,
     "start_time": "2020-08-17T14:42:21.737192",
     "status": "completed"
    },
    "tags": []
   },
   "outputs": [],
   "source": [
    "from sklearn.model_selection import train_test_split\n",
    "X_train = list(train['ingredients'])\n",
    "y_train = list(train['cuisine'])\n",
    "X_test = list(test['ingredients'])"
   ]
  },
  {
   "cell_type": "code",
   "execution_count": 3,
   "metadata": {
    "execution": {
     "iopub.execute_input": "2020-08-17T14:42:22.934985Z",
     "iopub.status.busy": "2020-08-17T14:42:22.934161Z",
     "iopub.status.idle": "2020-08-17T14:42:22.938592Z",
     "shell.execute_reply": "2020-08-17T14:42:22.937673Z"
    },
    "papermill": {
     "duration": 0.032167,
     "end_time": "2020-08-17T14:42:22.938728",
     "exception": false,
     "start_time": "2020-08-17T14:42:22.906561",
     "status": "completed"
    },
    "tags": []
   },
   "outputs": [
    {
     "name": "stdout",
     "output_type": "stream",
     "text": [
      "39774\n",
      "20\n"
     ]
    }
   ],
   "source": [
    "print(len(y_train))\n",
    "print(len(set(y_train)))"
   ]
  },
  {
   "cell_type": "code",
   "execution_count": 4,
   "metadata": {
    "execution": {
     "iopub.execute_input": "2020-08-17T14:42:22.976084Z",
     "iopub.status.busy": "2020-08-17T14:42:22.975111Z",
     "iopub.status.idle": "2020-08-17T14:42:23.810818Z",
     "shell.execute_reply": "2020-08-17T14:42:23.809962Z"
    },
    "papermill": {
     "duration": 0.856293,
     "end_time": "2020-08-17T14:42:23.810951",
     "exception": false,
     "start_time": "2020-08-17T14:42:22.954658",
     "status": "completed"
    },
    "tags": []
   },
   "outputs": [],
   "source": [
    "from nltk.corpus import stopwords \n",
    "stop_words = set(stopwords.words('english'))"
   ]
  },
  {
   "cell_type": "code",
   "execution_count": 5,
   "metadata": {
    "execution": {
     "iopub.execute_input": "2020-08-17T14:42:23.854172Z",
     "iopub.status.busy": "2020-08-17T14:42:23.851325Z",
     "iopub.status.idle": "2020-08-17T14:42:23.857739Z",
     "shell.execute_reply": "2020-08-17T14:42:23.856944Z"
    },
    "papermill": {
     "duration": 0.030931,
     "end_time": "2020-08-17T14:42:23.857872",
     "exception": false,
     "start_time": "2020-08-17T14:42:23.826941",
     "status": "completed"
    },
    "tags": []
   },
   "outputs": [],
   "source": [
    "from nltk.stem.porter import *\n",
    "stemmer = PorterStemmer()"
   ]
  },
  {
   "cell_type": "code",
   "execution_count": 6,
   "metadata": {
    "execution": {
     "iopub.execute_input": "2020-08-17T14:42:23.902279Z",
     "iopub.status.busy": "2020-08-17T14:42:23.901265Z",
     "iopub.status.idle": "2020-08-17T14:42:23.904660Z",
     "shell.execute_reply": "2020-08-17T14:42:23.903899Z"
    },
    "papermill": {
     "duration": 0.030859,
     "end_time": "2020-08-17T14:42:23.904796",
     "exception": false,
     "start_time": "2020-08-17T14:42:23.873937",
     "status": "completed"
    },
    "tags": []
   },
   "outputs": [],
   "source": [
    "from nltk.tokenize import word_tokenize\n",
    "def preprocess_ingredient(ingredients):\n",
    "    for ingredient in ingredients:\n",
    "        for i in range(len(ingredient)):\n",
    "            x = ingredient[i] #'Bertolli® Classico Olive Oil', '(10 oz.) frozen chopped spinach, thawed and squeezed dry' ,'leg of lamb', 'lamb leg'\n",
    "            x = x.lower() #'bertolli® classico olive oil', '(10 oz.) frozen chopped spinach, thawed and squeezed dry' ,'leg of lamb', 'lamb leg'\n",
    "            x = re.sub(\"[^a-z ]\", \"\", x) #'bertolli classico olive oil', ' oz frozen chopped spinach thawed and squeezed dry' ,'leg of lamb', 'lamb leg'\n",
    "            word_tokens = word_tokenize(x)\n",
    "            if 'oz' in word_tokens:\n",
    "                word_tokens.remove('oz')\n",
    "            filtered_words = [w for w in word_tokens if not w in stop_words] \n",
    "            filtered_words.sort() #['bertolli', 'classico', 'oil', 'olive'], ['chopped', 'dry', 'frozen', 'spinach', 'squeezed', 'thawed'], ['lamb', 'leg'], ['lamb', 'leg']\n",
    "            stemmed_word = [stemmer.stem(word) for word in filtered_words]\n",
    "            x = ' '.join(stemmed_word) #'bertolli classico oil oliv', 'chop dri frozen spinach squeez thaw' ,'lamb leg', 'lamb leg'\n",
    "            ingredient[i] = x"
   ]
  },
  {
   "cell_type": "code",
   "execution_count": 7,
   "metadata": {
    "execution": {
     "iopub.execute_input": "2020-08-17T14:42:23.942834Z",
     "iopub.status.busy": "2020-08-17T14:42:23.942000Z",
     "iopub.status.idle": "2020-08-17T14:44:14.811056Z",
     "shell.execute_reply": "2020-08-17T14:44:14.810358Z"
    },
    "papermill": {
     "duration": 110.890237,
     "end_time": "2020-08-17T14:44:14.811234",
     "exception": false,
     "start_time": "2020-08-17T14:42:23.920997",
     "status": "completed"
    },
    "tags": []
   },
   "outputs": [],
   "source": [
    "preprocess_ingredient(X_train)\n",
    "preprocess_ingredient(X_test)"
   ]
  },
  {
   "cell_type": "code",
   "execution_count": 8,
   "metadata": {
    "execution": {
     "iopub.execute_input": "2020-08-17T14:44:14.851216Z",
     "iopub.status.busy": "2020-08-17T14:44:14.850260Z",
     "iopub.status.idle": "2020-08-17T14:44:14.852717Z",
     "shell.execute_reply": "2020-08-17T14:44:14.853257Z"
    },
    "papermill": {
     "duration": 0.025579,
     "end_time": "2020-08-17T14:44:14.853429",
     "exception": false,
     "start_time": "2020-08-17T14:44:14.827850",
     "status": "completed"
    },
    "tags": []
   },
   "outputs": [],
   "source": [
    "def create_vocabs(X):\n",
    "    vocabs = set()\n",
    "    for ingredient in X:\n",
    "        vocabs.update(ingredient)\n",
    "    return sorted(vocabs)"
   ]
  },
  {
   "cell_type": "code",
   "execution_count": 9,
   "metadata": {
    "execution": {
     "iopub.execute_input": "2020-08-17T14:44:14.913773Z",
     "iopub.status.busy": "2020-08-17T14:44:14.898026Z",
     "iopub.status.idle": "2020-08-17T14:44:14.936054Z",
     "shell.execute_reply": "2020-08-17T14:44:14.935243Z"
    },
    "papermill": {
     "duration": 0.066245,
     "end_time": "2020-08-17T14:44:14.936209",
     "exception": false,
     "start_time": "2020-08-17T14:44:14.869964",
     "status": "completed"
    },
    "tags": []
   },
   "outputs": [],
   "source": [
    "X_C_train, X_C_val, y_C_train, y_C_val = train_test_split(X_train, y_train, test_size=0.2, random_state=0)"
   ]
  },
  {
   "cell_type": "code",
   "execution_count": 10,
   "metadata": {
    "execution": {
     "iopub.execute_input": "2020-08-17T14:44:14.994534Z",
     "iopub.status.busy": "2020-08-17T14:44:14.989094Z",
     "iopub.status.idle": "2020-08-17T14:44:15.101669Z",
     "shell.execute_reply": "2020-08-17T14:44:15.100971Z"
    },
    "papermill": {
     "duration": 0.148531,
     "end_time": "2020-08-17T14:44:15.101810",
     "exception": false,
     "start_time": "2020-08-17T14:44:14.953279",
     "status": "completed"
    },
    "tags": []
   },
   "outputs": [],
   "source": [
    "C_train_vocabs = create_vocabs(X_C_train)\n",
    "train_vocabs = create_vocabs(X_train)"
   ]
  },
  {
   "cell_type": "code",
   "execution_count": 11,
   "metadata": {
    "execution": {
     "iopub.execute_input": "2020-08-17T14:44:15.144255Z",
     "iopub.status.busy": "2020-08-17T14:44:15.141962Z",
     "iopub.status.idle": "2020-08-17T14:44:15.148692Z",
     "shell.execute_reply": "2020-08-17T14:44:15.147879Z"
    },
    "papermill": {
     "duration": 0.029916,
     "end_time": "2020-08-17T14:44:15.148827",
     "exception": false,
     "start_time": "2020-08-17T14:44:15.118911",
     "status": "completed"
    },
    "tags": []
   },
   "outputs": [],
   "source": [
    "import pickle\n",
    "with open('vocabs.pkl', 'wb') as file:\n",
    "    pickle.dump(train_vocabs, file)\n",
    "# with open('train_vocabs.pkl', 'rb') as file:  \n",
    "#     pickled_train_vocabs = sorted(pickle.load(file))"
   ]
  },
  {
   "cell_type": "code",
   "execution_count": 12,
   "metadata": {
    "execution": {
     "iopub.execute_input": "2020-08-17T14:44:15.191663Z",
     "iopub.status.busy": "2020-08-17T14:44:15.190817Z",
     "iopub.status.idle": "2020-08-17T14:44:15.194973Z",
     "shell.execute_reply": "2020-08-17T14:44:15.194312Z"
    },
    "papermill": {
     "duration": 0.028513,
     "end_time": "2020-08-17T14:44:15.195102",
     "exception": false,
     "start_time": "2020-08-17T14:44:15.166589",
     "status": "completed"
    },
    "tags": []
   },
   "outputs": [],
   "source": [
    "def create_bag_of_words(ingredients, vocabs):\n",
    "    data_features = list()\n",
    "    for ingredient in ingredients:\n",
    "        features = list()\n",
    "        for item in vocabs:\n",
    "            features.append(item in ingredient)\n",
    "        data_features.append(features)\n",
    "    return data_features"
   ]
  },
  {
   "cell_type": "code",
   "execution_count": 13,
   "metadata": {
    "execution": {
     "iopub.execute_input": "2020-08-17T14:44:15.264473Z",
     "iopub.status.busy": "2020-08-17T14:44:15.243620Z",
     "iopub.status.idle": "2020-08-17T14:47:35.404177Z",
     "shell.execute_reply": "2020-08-17T14:47:35.403405Z"
    },
    "papermill": {
     "duration": 200.191909,
     "end_time": "2020-08-17T14:47:35.404323",
     "exception": false,
     "start_time": "2020-08-17T14:44:15.212414",
     "status": "completed"
    },
    "tags": []
   },
   "outputs": [],
   "source": [
    "# from sklearn import preprocessing\n",
    "\n",
    "C_train_data_features = create_bag_of_words(X_C_train, C_train_vocabs)\n",
    "\n",
    "C_val_data_features = create_bag_of_words(X_C_val, C_train_vocabs)\n",
    "\n",
    "# train_data_features = preprocessing.scale(create_bag_of_words(X_train))\n",
    "train_data_features = create_bag_of_words(X_train, train_vocabs)\n",
    "\n",
    "# test_data_features = preprocessing.scale(create_bag_of_words(X_test))\n",
    "test_data_features = create_bag_of_words(X_test, train_vocabs)"
   ]
  },
  {
   "cell_type": "code",
   "execution_count": 14,
   "metadata": {
    "execution": {
     "iopub.execute_input": "2020-08-17T14:47:35.446986Z",
     "iopub.status.busy": "2020-08-17T14:47:35.446175Z",
     "iopub.status.idle": "2020-08-17T14:47:35.450348Z",
     "shell.execute_reply": "2020-08-17T14:47:35.449551Z"
    },
    "papermill": {
     "duration": 0.028307,
     "end_time": "2020-08-17T14:47:35.450482",
     "exception": false,
     "start_time": "2020-08-17T14:47:35.422175",
     "status": "completed"
    },
    "tags": []
   },
   "outputs": [],
   "source": [
    "def train_logistic_regression(c, features, label):\n",
    "    from sklearn.linear_model import LogisticRegression\n",
    "    ml_model = LogisticRegression(C=c, max_iter = 40000)\n",
    "    ml_model.fit(features, label)\n",
    "    return ml_model"
   ]
  },
  {
   "cell_type": "code",
   "execution_count": 15,
   "metadata": {
    "execution": {
     "iopub.execute_input": "2020-08-17T14:48:06.482924Z",
     "iopub.status.busy": "2020-08-17T14:48:06.456868Z",
     "iopub.status.idle": "2020-08-17T15:29:54.399206Z",
     "shell.execute_reply": "2020-08-17T15:29:54.398019Z"
    },
    "papermill": {
     "duration": 2538.930573,
     "end_time": "2020-08-17T15:29:54.399366",
     "exception": false,
     "start_time": "2020-08-17T14:47:35.468793",
     "status": "completed"
    },
    "tags": []
   },
   "outputs": [
    {
     "name": "stdout",
     "output_type": "stream",
     "text": [
      "0.01 0.6516656191074796\n",
      "0.1 0.7583909490886235\n",
      "0.2 0.7723444374607166\n",
      "0.5 0.780389692017599\n",
      "1 0.7829038340666248\n",
      "2 0.7788812067881835\n",
      "5 0.7707102451288498\n",
      "10 0.7627906976744186\n",
      "100 0.7249528598365808\n",
      "1 0.7829038340666248\n"
     ]
    }
   ],
   "source": [
    "c_trial = [0.01, 0.1, 0.2, 0.5, 1, 2, 5, 10, 100]\n",
    "best_c = c = 0\n",
    "best_score = 0\n",
    "from sklearn.metrics import accuracy_score\n",
    "for c in c_trial:\n",
    "    ml_model = train_logistic_regression(c, C_train_data_features, y_C_train)\n",
    "    predicted_y = ml_model.predict(C_val_data_features)\n",
    "    score = accuracy_score(y_C_val, predicted_y)\n",
    "    print(c, score)\n",
    "    if score > best_score:\n",
    "        best_score = score\n",
    "        best_c = c\n",
    "\n",
    "print(best_c, best_score)\n",
    "ml_model = train_logistic_regression(best_c, train_data_features, y_train)\n",
    "predicted_y = ml_model.predict(test_data_features)"
   ]
  },
  {
   "cell_type": "code",
   "execution_count": 16,
   "metadata": {
    "execution": {
     "iopub.execute_input": "2020-08-17T15:29:54.467836Z",
     "iopub.status.busy": "2020-08-17T15:29:54.451923Z",
     "iopub.status.idle": "2020-08-17T15:29:54.517899Z",
     "shell.execute_reply": "2020-08-17T15:29:54.517277Z"
    },
    "papermill": {
     "duration": 0.094266,
     "end_time": "2020-08-17T15:29:54.518052",
     "exception": false,
     "start_time": "2020-08-17T15:29:54.423786",
     "status": "completed"
    },
    "tags": []
   },
   "outputs": [
    {
     "data": {
      "text/html": [
       "<div>\n",
       "<style scoped>\n",
       "    .dataframe tbody tr th:only-of-type {\n",
       "        vertical-align: middle;\n",
       "    }\n",
       "\n",
       "    .dataframe tbody tr th {\n",
       "        vertical-align: top;\n",
       "    }\n",
       "\n",
       "    .dataframe thead th {\n",
       "        text-align: right;\n",
       "    }\n",
       "</style>\n",
       "<table border=\"1\" class=\"dataframe\">\n",
       "  <thead>\n",
       "    <tr style=\"text-align: right;\">\n",
       "      <th></th>\n",
       "      <th>id</th>\n",
       "      <th>cuisine</th>\n",
       "    </tr>\n",
       "  </thead>\n",
       "  <tbody>\n",
       "    <tr>\n",
       "      <th>0</th>\n",
       "      <td>18009</td>\n",
       "      <td>british</td>\n",
       "    </tr>\n",
       "    <tr>\n",
       "      <th>1</th>\n",
       "      <td>28583</td>\n",
       "      <td>southern_us</td>\n",
       "    </tr>\n",
       "    <tr>\n",
       "      <th>2</th>\n",
       "      <td>41580</td>\n",
       "      <td>italian</td>\n",
       "    </tr>\n",
       "    <tr>\n",
       "      <th>3</th>\n",
       "      <td>29752</td>\n",
       "      <td>cajun_creole</td>\n",
       "    </tr>\n",
       "    <tr>\n",
       "      <th>4</th>\n",
       "      <td>35687</td>\n",
       "      <td>italian</td>\n",
       "    </tr>\n",
       "  </tbody>\n",
       "</table>\n",
       "</div>"
      ],
      "text/plain": [
       "      id       cuisine\n",
       "0  18009       british\n",
       "1  28583   southern_us\n",
       "2  41580       italian\n",
       "3  29752  cajun_creole\n",
       "4  35687       italian"
      ]
     },
     "execution_count": 16,
     "metadata": {},
     "output_type": "execute_result"
    }
   ],
   "source": [
    "test['cuisine'] = predicted_y\n",
    "test[['id', 'cuisine']].to_csv('submission.csv', index=False)\n",
    "test[['id', 'cuisine']].head()"
   ]
  },
  {
   "cell_type": "code",
   "execution_count": 17,
   "metadata": {
    "_cell_guid": "ab6d18c7-eb6f-4574-b4e7-27f037ccaac6",
    "_uuid": "4a4e5320-c07f-4def-8ebe-f609641b54e0",
    "execution": {
     "iopub.execute_input": "2020-08-17T15:29:54.571340Z",
     "iopub.status.busy": "2020-08-17T15:29:54.570497Z",
     "iopub.status.idle": "2020-08-17T15:29:54.577077Z",
     "shell.execute_reply": "2020-08-17T15:29:54.577729Z"
    },
    "papermill": {
     "duration": 0.037504,
     "end_time": "2020-08-17T15:29:54.577921",
     "exception": false,
     "start_time": "2020-08-17T15:29:54.540417",
     "status": "completed"
    },
    "tags": []
   },
   "outputs": [
    {
     "data": {
      "text/plain": [
       "['cuisine_prediction_model_joblib.pkl']"
      ]
     },
     "execution_count": 17,
     "metadata": {},
     "output_type": "execute_result"
    }
   ],
   "source": [
    "# import pickle\n",
    "# with open('cuisine_prediction_model.pkl', 'wb') as file:\n",
    "#     pickle.dump(ml_model, file)\n",
    "    \n",
    "# with open('cuisine_prediction_model.pkl', 'rb') as file:  \n",
    "#     pickled_ml_model = pickle.load(file)\n",
    "\n",
    "import joblib\n",
    "joblib.dump(ml_model, 'cuisine_prediction_model_joblib.pkl')\n",
    "# pickled_ml_model = joblib.load('cuisine_prediction_model_joblib.pkl') "
   ]
  },
  {
   "cell_type": "code",
   "execution_count": 18,
   "metadata": {
    "execution": {
     "iopub.execute_input": "2020-08-17T15:29:54.630376Z",
     "iopub.status.busy": "2020-08-17T15:29:54.629397Z",
     "iopub.status.idle": "2020-08-17T15:29:54.632647Z",
     "shell.execute_reply": "2020-08-17T15:29:54.631937Z"
    },
    "papermill": {
     "duration": 0.031195,
     "end_time": "2020-08-17T15:29:54.632776",
     "exception": false,
     "start_time": "2020-08-17T15:29:54.601581",
     "status": "completed"
    },
    "tags": []
   },
   "outputs": [],
   "source": [
    "# !pip freeze > '../working/dockerimage_snapshot.txt'"
   ]
  }
 ],
 "metadata": {
  "kernelspec": {
   "display_name": "Python 3",
   "language": "python",
   "name": "python3"
  },
  "language_info": {
   "codemirror_mode": {
    "name": "ipython",
    "version": 3
   },
   "file_extension": ".py",
   "mimetype": "text/x-python",
   "name": "python",
   "nbconvert_exporter": "python",
   "pygments_lexer": "ipython3",
   "version": "3.7.6"
  },
  "papermill": {
   "duration": 2859.967929,
   "end_time": "2020-08-17T15:29:55.856578",
   "environment_variables": {},
   "exception": null,
   "input_path": "__notebook__.ipynb",
   "output_path": "__notebook__.ipynb",
   "parameters": {},
   "start_time": "2020-08-17T14:42:15.888649",
   "version": "2.1.0"
  }
 },
 "nbformat": 4,
 "nbformat_minor": 4
}
